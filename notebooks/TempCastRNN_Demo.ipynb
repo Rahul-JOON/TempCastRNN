{
 "cells": [
  {
   "cell_type": "markdown",
   "id": "4bb7f3d5",
   "metadata": {},
   "source": [
    "## TempCastRNN Demonstration Notebook\n",
    "\n",
    "### 📌 Objective:\n",
    "# Show how to use the model from data fetch to prediction with visualizations"
   ]
  },
  {
   "cell_type": "code",
   "execution_count": null,
   "id": "75a1e025",
   "metadata": {},
   "outputs": [],
   "source": [
    "### 1. Setup\n",
    "import os\n",
    "import torch\n",
    "import pandas as pd\n",
    "import matplotlib.pyplot as plt\n",
    "from scripts.model import TempCastModel\n",
    "from scripts.utils import process_csv_to_tensor\n",
    "from scripts.data_fetcher import download_csv_from_dashboard"
   ]
  }
 ],
 "metadata": {
  "kernelspec": {
   "display_name": "tempcastrnn",
   "language": "python",
   "name": "python3"
  },
  "language_info": {
   "name": "python",
   "version": "3.10.16"
  }
 },
 "nbformat": 4,
 "nbformat_minor": 5
}
